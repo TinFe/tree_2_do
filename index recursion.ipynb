{
 "cells": [
  {
   "cell_type": "code",
   "execution_count": 8,
   "id": "5bccc9e3",
   "metadata": {},
   "outputs": [
    {
     "data": {
      "text/plain": [
       "2"
      ]
     },
     "execution_count": 8,
     "metadata": {},
     "output_type": "execute_result"
    }
   ],
   "source": [
    "lst = [0,[1,2],9,[[9,9],0]]\n",
    "# we want to access 2 \n",
    "# normally we would run\n",
    "lst[1][1]\n",
    "\n"
   ]
  },
  {
   "cell_type": "code",
   "execution_count": 13,
   "id": "67266ba3",
   "metadata": {},
   "outputs": [],
   "source": [
    "def set_item(lst, index_list, item, depth=0):\n",
    "    if depth == len(index_list) - 1:\n",
    "        lst[index_list[depth]].append(item)\n",
    "        return lst\n",
    "    else:\n",
    "        set_item(lst[index_list[depth]], index_list, item, depth+1)\n",
    "        return lst\n",
    "    "
   ]
  },
  {
   "cell_type": "code",
   "execution_count": 14,
   "id": "bf11a8fd",
   "metadata": {},
   "outputs": [
    {
     "data": {
      "text/plain": [
       "[0, [1, 2], 9, [[9, 9, 'w', 'w'], 0]]"
      ]
     },
     "execution_count": 14,
     "metadata": {},
     "output_type": "execute_result"
    }
   ],
   "source": [
    "set_item(lst, [], \"w\")"
   ]
  },
  {
   "cell_type": "code",
   "execution_count": 7,
   "id": "58348fb8",
   "metadata": {},
   "outputs": [
    {
     "data": {
      "text/plain": [
       "['w', [1, 2], 9, [[9, 9], 0]]"
      ]
     },
     "execution_count": 7,
     "metadata": {},
     "output_type": "execute_result"
    }
   ],
   "source": [
    "lst\n"
   ]
  },
  {
   "cell_type": "code",
   "execution_count": null,
   "id": "ae9b6876",
   "metadata": {},
   "outputs": [],
   "source": []
  }
 ],
 "metadata": {
  "kernelspec": {
   "display_name": "Python 3 (ipykernel)",
   "language": "python",
   "name": "python3"
  },
  "language_info": {
   "codemirror_mode": {
    "name": "ipython",
    "version": 3
   },
   "file_extension": ".py",
   "mimetype": "text/x-python",
   "name": "python",
   "nbconvert_exporter": "python",
   "pygments_lexer": "ipython3",
   "version": "3.9.12"
  }
 },
 "nbformat": 4,
 "nbformat_minor": 5
}
